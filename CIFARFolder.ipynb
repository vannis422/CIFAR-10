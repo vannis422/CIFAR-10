{
  "nbformat": 4,
  "nbformat_minor": 0,
  "metadata": {
    "colab": {
      "provenance": [],
      "authorship_tag": "ABX9TyNJCQSQ3sVVgQaXOQNTnzxp",
      "include_colab_link": true
    },
    "kernelspec": {
      "name": "python3",
      "display_name": "Python 3"
    },
    "language_info": {
      "name": "python"
    }
  },
  "cells": [
    {
      "cell_type": "markdown",
      "metadata": {
        "id": "view-in-github",
        "colab_type": "text"
      },
      "source": [
        "<a href=\"https://colab.research.google.com/github/vannis422/CIFAR-10/blob/main/CIFARFolder.ipynb\" target=\"_parent\"><img src=\"https://colab.research.google.com/assets/colab-badge.svg\" alt=\"Open In Colab\"/></a>"
      ]
    },
    {
      "cell_type": "code",
      "execution_count": 2,
      "metadata": {
        "id": "0eJCe-X_1Jum"
      },
      "outputs": [],
      "source": [
        "import pickle\n",
        "import numpy as np\n",
        "import matplotlib.pyplot as plt\n",
        "from typing import Tuple\n",
        "from PIL import Image\n",
        "import torch\n",
        "import torchvision\n",
        "import os\n",
        "\n",
        "class CIFAR10ImageFolder(torch.utils.data.Dataset):\n",
        "    def __init__(self, root_dir, transform=None):\n",
        "        \"\"\"\n",
        "        root_dir: 資料夾路徑，例如 'cifar10/train'\n",
        "        transform: torchvision.transforms 用來轉換 PIL 圖片\n",
        "        \"\"\"\n",
        "        self.root_dir = root_dir\n",
        "        self.transform = transform\n",
        "        self.image_paths = []\n",
        "        self.labels = []\n",
        "\n",
        "        class_names = sorted(os.listdir(root_dir)) # 列出 `root_dir` 底下有哪些類別資料夾，並由小至大排序\n",
        "        for idx, class_name in enumerate(class_names):\n",
        "            class_folder = os.path.join(root_dir, class_name)\n",
        "            if not os.path.isdir(class_folder):\n",
        "                continue\n",
        "\n",
        "            for filename in os.listdir(class_folder):\n",
        "                if filename.endswith(('.png', '.jpg')):\n",
        "                    # TODO2-1: 將所有的檔案路徑都收集到 `self.image_paths`\n",
        "                    img_path = os.path.join(class_folder, filename)\n",
        "                    self.image_paths.append(img_path)\n",
        "\n",
        "                    # TODO2-2: 將所有的 label_id 都收集到 `self.labels`\n",
        "                    self.labels.append(idx)\n",
        "\n",
        "    def __getitem__(self, idx):\n",
        "        # TODO2-3: 取得 idx 所對應的檔案路徑\n",
        "        img_path = self.image_paths[idx]\n",
        "        label = self.labels[idx]\n",
        "        image = Image.open(img_path).convert('RGB')  # 讀成 RGB 模式\n",
        "\n",
        "        if self.transform:\n",
        "            image = self.transform(image)\n",
        "\n",
        "        return image, label\n",
        "\n",
        "    def __len__(self):\n",
        "        return len(self.image_paths)"
      ]
    }
  ]
}