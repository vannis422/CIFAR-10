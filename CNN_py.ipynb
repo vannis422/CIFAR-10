{
  "nbformat": 4,
  "nbformat_minor": 0,
  "metadata": {
    "colab": {
      "provenance": [],
      "authorship_tag": "ABX9TyO2Mli1fx0jcxsApYX13xEG",
      "include_colab_link": true
    },
    "kernelspec": {
      "name": "python3",
      "display_name": "Python 3"
    },
    "language_info": {
      "name": "python"
    }
  },
  "cells": [
    {
      "cell_type": "markdown",
      "metadata": {
        "id": "view-in-github",
        "colab_type": "text"
      },
      "source": [
        "<a href=\"https://colab.research.google.com/github/vannis422/CIFAR-10/blob/main/CNN_py.ipynb\" target=\"_parent\"><img src=\"https://colab.research.google.com/assets/colab-badge.svg\" alt=\"Open In Colab\"/></a>"
      ]
    },
    {
      "cell_type": "code",
      "execution_count": 2,
      "metadata": {
        "id": "DjYpaYi3yTPV"
      },
      "outputs": [],
      "source": [
        "import pickle\n",
        "import numpy as np\n",
        "import matplotlib.pyplot as plt\n",
        "from typing import Tuple\n",
        "from PIL import Image\n",
        "import torch\n",
        "import torchvision\n",
        "import os\n",
        "from sklearn.metrics import accuracy_score\n",
        "\n",
        "class SimpleCNN(torch.nn.Module):\n",
        "    def __init__(self, num_classes=10, fc_hidden_size=256, dropout_ratio=0.5):\n",
        "        super().__init__()\n",
        "\n",
        "        self.conv1 = torch.nn.Conv2d(in_channels=3, out_channels=32, kernel_size=3, padding=1)\n",
        "        self.conv2 = torch.nn.Conv2d(32, 64, kernel_size=3, padding=1)\n",
        "        self.conv3 = torch.nn.Conv2d(64, 128, kernel_size=3, padding=1)\n",
        "\n",
        "        self.pool = torch.nn.MaxPool2d(kernel_size=2, stride=2) # 2x2 pooling\n",
        "\n",
        "        self.fc1 = torch.nn.Linear(128 * 4 * 4, fc_hidden_size)\n",
        "        self.fc2 = torch.nn.Linear(fc_hidden_size, num_classes)\n",
        "        self.relu = torch.nn.ReLU() # 非線性轉換\n",
        "\n",
        "        self.dropout = torch.nn.Dropout(dropout_ratio)\n",
        "    def forward(self, x):\n",
        "        # ✅ conv1 layer + ReLU + pooling\n",
        "        x = self.relu(self.conv1(x))     # conv1 → [B, 3, 32, 32] → [B, 32, 32, 32]\n",
        "        x = self.pool(x)                 # pool → [B, 32, 16, 16]\n",
        "\n",
        "        # ✅ conv2 layer + ReLU + pooling\n",
        "        x = self.relu(self.conv2(x))     # conv2 → [B, 64, 16, 16]\n",
        "        x = self.pool(x)                 # pool → [B, 64, 8, 8]\n",
        "\n",
        "        # ✅ conv3 layer + ReLU + pooling\n",
        "        x = self.relu(self.conv3(x))     # conv3 → [B, 128, 8, 8]\n",
        "        x = self.pool(x)                 # pool → [B, 128, 4, 4]\n",
        "\n",
        "        # ✅ 展平成向量\n",
        "        x = x.view(x.size(0), -1)        # → [B, 128*4*4 = 2048]\n",
        "\n",
        "        # ✅ 全連接層 + ReLU + Dropout\n",
        "        x = self.relu(self.fc1(x))       # fc1 → [B, 256]\n",
        "        x = self.dropout(x)\n",
        "\n",
        "        # ✅ 最後一層輸出分類\n",
        "        x = self.fc2(x)                  # fc2 → [B, 10]\n",
        "        return x"
      ]
    }
  ]
}